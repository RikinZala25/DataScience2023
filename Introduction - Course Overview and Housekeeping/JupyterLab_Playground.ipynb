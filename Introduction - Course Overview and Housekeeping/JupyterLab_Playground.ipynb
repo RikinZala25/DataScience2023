{
 "cells": [
  {
   "cell_type": "markdown",
   "metadata": {
    "id": "o1gngWrcgSsD"
   },
   "source": [
    "<img src=\"https://d2jzbjey2ol3gs.cloudfront.net/uploads/report/99/image/normal_openhpilogo.jpg\" alt=\"OpenHPI logo\" width=\"500\" height=\"100\">\n",
    "\n",
    "## **Welcome to openHPI's OpenJupyter tool**\n",
    "\n",
    "### In this Notebook you **can**:\n",
    "\n",
    "- #### Explore our OpenJupyter tool and get familiar with it\n",
    "\n",
    "- #### use as a draft notebook to test some code\n",
    "\n",
    "### In this Notebook you **can not**:\n",
    "\n",
    "- #### Use it for exercise submissions\n",
    "\n",
    "- #### Use it to run external code outside the Data Science Bootcamp\n",
    "\n",
    "- #### NOTE: Code written here will be captured by us for research purposes\n",
    "\n",
    "--- \n",
    "\\\n",
    "### Here is a reminder about the technical limitations on this programming platform **OpenJupyter**:\n",
    "\n",
    "#### Inactivity and Saving\n",
    "\n",
    "- After 15 minutes of inactivity, the Python kernel shuts down, but the kernel is easy to restart if you continue your work within 60 minutes.\n",
    "- After 60 minutes of inactivity the data is deleted to free up resources for other users.\n",
    "- Therefore, please save the notebook locally (click \"File\" -> \"Download\") if you are pausing your work on the notebook for more than one hour. (We have put a reminder to save the notebook after each task.)\n",
    "- If you have to restore your work from a downloaded notebook, press the Upload Button and select your locally saved `.ipynb` file (confirm to overwrite).\n",
    "\n",
    "#### Grading\n",
    "\n",
    "- The grading process relies on the existing cell order.\n",
    "- Therefore: Do not create new cells and do not delete existing cells in the notebook.\n",
    "- If you need/want to create new cells in the notebook, you can add them after the grading cell code.\n",
    "- If you need/want to have a draft notebook, use the JupyterLab_playground.ipynb notebook provided in this directory"
   ]
  },
  {
   "cell_type": "code",
   "execution_count": 1,
   "metadata": {
    "id": "MeJNsZrWdMES"
   },
   "outputs": [
    {
     "name": "stdout",
     "output_type": "stream",
     "text": [
      "Hello World\n"
     ]
    }
   ],
   "source": [
    "print(\"Hello World\")"
   ]
  },
  {
   "cell_type": "markdown",
   "metadata": {
    "id": "FS4Y8cUxdNN1"
   },
   "source": [
    "Hi Mohamed Elhayany and Hendrik Steinbeck, I'm Rikin Zala, nice to meet you."
   ]
  },
  {
   "cell_type": "code",
   "execution_count": 2,
   "metadata": {
    "id": "jIBsdHBLdLgO"
   },
   "outputs": [
    {
     "name": "stdout",
     "output_type": "stream",
     "text": [
      "posix\n"
     ]
    }
   ],
   "source": [
    "import os \n",
    "\n",
    "print(os.name)"
   ]
  },
  {
   "cell_type": "code",
   "execution_count": null,
   "metadata": {
    "id": "FQLiOi_jwfoK"
   },
   "outputs": [],
   "source": []
  },
  {
   "cell_type": "code",
   "execution_count": null,
   "metadata": {
    "id": "9ETwULjkwgbO"
   },
   "outputs": [],
   "source": []
  },
  {
   "cell_type": "code",
   "execution_count": null,
   "metadata": {
    "id": "wfX1xfjMo2Hc"
   },
   "outputs": [],
   "source": []
  },
  {
   "cell_type": "markdown",
   "metadata": {
    "id": "_iSO4f0qo2vj"
   },
   "source": []
  }
 ],
 "metadata": {
  "colab": {
   "provenance": []
  },
  "kernelspec": {
   "display_name": "Python 3 (ipykernel)",
   "language": "python",
   "name": "python3"
  },
  "language_info": {
   "codemirror_mode": {
    "name": "ipython",
    "version": 3
   },
   "file_extension": ".py",
   "mimetype": "text/x-python",
   "name": "python",
   "nbconvert_exporter": "python",
   "pygments_lexer": "ipython3",
   "version": "3.9.7"
  }
 },
 "nbformat": 4,
 "nbformat_minor": 4
}
