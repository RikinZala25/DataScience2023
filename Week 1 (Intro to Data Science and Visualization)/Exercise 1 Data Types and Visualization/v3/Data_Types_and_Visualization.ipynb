{
 "cells": [
  {
   "cell_type": "markdown",
   "metadata": {
    "tags": []
   },
   "source": [
    "# Data Types and Visualization\n",
    "\n",
    "This is the first practical exercise of our course [Data Sciecne Bootcamp](https://open.hpi.de/courses/datascience2023).\n",
    "In this exercise, you are going to practice and use Python Data Types and MatplotLib for Visualization.\n",
    "\n",
    "---\n",
    "\\\n",
    "Here is a reminder about the technical limitations on this programming platform **OpenJupyter**:\n",
    "\n",
    "#### Inactivity and Saving\n",
    "\n",
    "- After 15 minutes of inactivity, the Python kernel shuts down, but the kernel is easy to restart if you continue your work within 60 minutes.\n",
    "- After 60 minutes of inactivity the data is deleted to free up resources for other users.\n",
    "- Therefore, please save the notebook locally (click \"File\" -> \"Download\") if you are pausing your work on the notebook for more than one hour. (We have put a reminder to save the notebook after each task.)\n",
    "- If you have to restore your work from a downloaded notebook, press the Upload Button and select your locally saved `.ipynb` file (confirm to overwrite).\n",
    "\n",
    "#### Grading\n",
    "\n",
    "- The due date for this exercise is the **27th of June (11:55 pm / 23:55 UTC)**\n",
    "- The grading process relies on the existing cell order.\n",
    "- Therefore: Do not create new cells and do not delete existing cells in the notebook.\n",
    "- If you need/want to create new cells in the notebook, you can add them after the grading code.\n",
    "- If you need/want to have a draft notebook, use the JupyterLab_playground.ipynb notebook provided in this directory"
   ]
  },
  {
   "cell_type": "code",
   "execution_count": 3,
   "metadata": {
    "tags": []
   },
   "outputs": [],
   "source": [
    "# Run this cell first\n",
    "from Ex1_Grader import *\n",
    "%matplotlib inline"
   ]
  },
  {
   "cell_type": "markdown",
   "metadata": {
    "id": "8e7La0rX6msE",
    "tags": []
   },
   "source": [
    "# Task 1: Data Types (1P)\n",
    "\n",
    "1. Create a string variable called '**my_string**' and assign it a string value of your choice.\n",
    "2. Create a numeric variable called '**my_numeric**' and assign it an integer value of your choice.\n",
    "3. Create a sequence variable called '**my_sequence**' and assign it a list of **5** numbers of your choice.\n",
    "\n"
   ]
  },
  {
   "cell_type": "code",
   "execution_count": 4,
   "metadata": {
    "deletable": false,
    "id": "jffVffwP6msF",
    "nbgrader": {
     "cell_type": "code",
     "checksum": "d2edde99b8dda21ba07aee90541ff552",
     "grade": true,
     "grade_id": "cell-cdd4ef62122aa747",
     "locked": false,
     "points": 0,
     "schema_version": 3,
     "solution": true,
     "task": false
    },
    "tags": []
   },
   "outputs": [],
   "source": [
    "def create_data_types():\n",
    "\n",
    "    # TODO: Create the different datatype variables mentioned above\n",
    "    # HINT: No hint needed\n",
    "\n",
    "    # TASK START - Start coding here:\n",
    "    \n",
    "    my_string = \"hello, I'm Rikin\"\n",
    "    my_numeric = 1\n",
    "    my_sequence = [1,2,3,4,5]\n",
    "    \n",
    "    # TASK END\n",
    "\n",
    "    return my_string, my_numeric, my_sequence"
   ]
  },
  {
   "cell_type": "markdown",
   "metadata": {
    "id": "fT3bSKOQ6msF"
   },
   "source": [
    "If you want to test your solution, you can execute the following code cell.\n",
    "If your solution passes our test, it will simply print `Test passed.`\n",
    "If it does not work, you will get an error.\n",
    "In this case you need to fix the code above.\n",
    "(And do not forget to run the above code cell again!)"
   ]
  },
  {
   "cell_type": "code",
   "execution_count": 5,
   "metadata": {
    "id": "eX0Bh52AHHa5"
   },
   "outputs": [
    {
     "name": "stdout",
     "output_type": "stream",
     "text": [
      "Tests Passed, Well Done 👏\n",
      "\n"
     ]
    },
    {
     "data": {
      "text/html": [
       "<pre style=\"white-space:pre;overflow-x:auto;line-height:normal;font-family:Menlo,'DejaVu Sans Mono',consolas,'Courier New',monospace\"><span style=\"color: #000080; text-decoration-color: #000080; font-weight: bold\">Code Efficiency Measures:</span>\n",
       "</pre>\n"
      ],
      "text/plain": [
       "\u001b[1;34mCode Efficiency Measures:\u001b[0m\n"
      ]
     },
     "metadata": {},
     "output_type": "display_data"
    },
    {
     "data": {
      "text/html": [
       "<pre style=\"white-space:pre;overflow-x:auto;line-height:normal;font-family:Menlo,'DejaVu Sans Mono',consolas,'Courier New',monospace\"><span style=\"color: #008000; text-decoration-color: #008000\">Runtime:</span> <span style=\"color: #008080; text-decoration-color: #008080; font-weight: bold\">2.1846999999963756e-06</span><span style=\"font-weight: bold\"> seconds</span>\n",
       "</pre>\n"
      ],
      "text/plain": [
       "\u001b[32mRuntime:\u001b[0m \u001b[1;36m2.1846999999963756e-06\u001b[0m\u001b[1m seconds\u001b[0m\n"
      ]
     },
     "metadata": {},
     "output_type": "display_data"
    }
   ],
   "source": [
    "test_create_data_types(create_data_types)"
   ]
  },
  {
   "cell_type": "markdown",
   "metadata": {
    "id": "3jodCjAY6msF"
   },
   "source": [
    "# Task 2: Intro to Matplotlib (1P)\n",
    "\n",
    "**Reminder: before you start working on the next task, it might be a good time to save the notebook locally now (click \"File\" -> \"Download\").**\n",
    "\n",
    "---\n",
    "\n",
    "Matplotlib is a widely used data visualization library for Python. It provides a variety of tools for creating high-quality charts, plots, and graphs, making it an essential tool for data scientists, engineers, and researchers. Matplotlib allows you to create a wide range of visualizations, including line plots, scatter plots, bar charts, histograms, and more. The library is highly customizable, allowing you to adjust every aspect of your visualizations to match your needs. Matplotlib can be used in combination with other Python libraries, such as NumPy and Pandas, to create more complex visualizations and perform data analysis tasks. Overall, Matplotlib is a powerful and flexible tool that can help you explore and communicate your data effectively.\n",
    "\n",
    "---\n",
    "\n",
    "In this task you need to perform the following:\n",
    "\n",
    "1. Import the matplotlib.pyplot module as plt.\n",
    "2. Create a histogram using the plt.hist() function with my_sequence as the data input. Label the x-axis with \"**Values**\" and the y-axis with \"**Frequency**\". Add a title to the plot that says \"**Histogram of My Sequence**\". Create the Histogram with **10** bins\n",
    "3. Create a line plot using the plt.plot() function with my_sequence as the data input. Label the x-axis with \"**Index**\" and the y-axis with \"**Values**\". Add a title to the plot that says \"**Line Plot of My Sequence**\".\n",
    "\n"
   ]
  },
  {
   "cell_type": "code",
   "execution_count": 11,
   "metadata": {
    "id": "KtrlWbYf6msG",
    "tags": []
   },
   "outputs": [
    {
     "data": {
      "image/png": "[encoded data removed]",
      "text/plain": [
       "<Figure size 432x288 with 1 Axes>"
      ]
     },
     "metadata": {
      "needs_background": "light"
     },
     "output_type": "display_data"
    },
    {
     "data": {
      "image/png": "[encoded data removed]",
      "text/plain": [
       "<Figure size 432x288 with 1 Axes>"
      ]
     },
     "metadata": {
      "needs_background": "light"
     },
     "output_type": "display_data"
    }
   ],
   "source": [
    "%matplotlib inline\n",
    "# Import Library Here\n",
    "import matplotlib.pyplot as plt\n",
    "\n",
    "# Create a histogram here\n",
    "def create_histogram(data):\n",
    "    \"\"\"TODO: Create a histogram using the plt.hist() function with my_sequence as the data input.\n",
    "    Label the x-axis with \"Values\" and the y-axis with \"Frequency\". Add a title to the plot that\n",
    "    says \"Histogram of My Sequence\".\"\"\"\n",
    "\n",
    "    #TASK START - Start coding here:\n",
    "    \n",
    "    plt.hist(my_sequence, bins=10)\n",
    "    plt.xlabel(\"Values\")\n",
    "    plt.ylabel(\"Frequency\")\n",
    "    plt.title(\"Histogram of My Sequence\")\n",
    "    plt.show()\n",
    "    # TASK END\n",
    "\n",
    "def create_line_plot(data):\n",
    "    \"\"\" TODO: Create a line plot using the plt.plot() function with my_sequence as the data input.\n",
    "    Label the x-axis with \"Index\" and the y-axis with \"Values\". Add a title to the plot that says\n",
    "    \"Line Plot of My Sequence\" \"\"\"\n",
    "\n",
    "    #TASK START - Start coding here:\n",
    "    \n",
    "    plt.plot(my_sequence)\n",
    "    plt.xlabel(\"Index\")\n",
    "    plt.ylabel(\"Values\")\n",
    "    plt.title(\"Line Plot of My Sequence\")\n",
    "    plt.show()\n",
    "\n",
    "    # TASK END\n",
    "\n",
    "#TASK START - Start coding here:\n",
    "\n",
    "# Create Your data sequence:\n",
    "\n",
    "import random\n",
    "data = []\n",
    "for i in range(0,50):\n",
    "    x = random.randint(1,50)\n",
    "    data.append(x)\n",
    "\n",
    "# Call out the create_histogram function:\n",
    "create_histogram(data)\n",
    "\n",
    "# Call out the create_line_plot function:\n",
    "create_line_plot(data)\n",
    "# TASK END\n"
   ]
  },
  {
   "cell_type": "markdown",
   "metadata": {
    "id": "BhTeaBieTt-V"
   },
   "source": [
    "If you want to see the output of your solution, you can execute the following 2 code cells.\n",
    "\n",
    "The first cell will test your histogram function. The second cell with test your line plot function.\n",
    "\n",
    "If your solution passes our test, it will simply print `Test passed.`\n",
    "If it does not work, you will get an error.\n",
    "In this case you need to fix the code above.\n",
    "(And do not forget to run the above code cell again!)"
   ]
  },
  {
   "cell_type": "code",
   "execution_count": 12,
   "metadata": {
    "id": "7YaWGxN3HHa8"
   },
   "outputs": [
    {
     "name": "stdout",
     "output_type": "stream",
     "text": [
      "Tests Passed, Well Done 👏\n",
      "\n"
     ]
    },
    {
     "data": {
      "text/html": [
       "<pre style=\"white-space:pre;overflow-x:auto;line-height:normal;font-family:Menlo,'DejaVu Sans Mono',consolas,'Courier New',monospace\"><span style=\"color: #000080; text-decoration-color: #000080; font-weight: bold\">Code Efficiency Measures:</span>\n",
       "</pre>\n"
      ],
      "text/plain": [
       "\u001b[1;34mCode Efficiency Measures:\u001b[0m\n"
      ]
     },
     "metadata": {},
     "output_type": "display_data"
    },
    {
     "data": {
      "text/html": [
       "<pre style=\"white-space:pre;overflow-x:auto;line-height:normal;font-family:Menlo,'DejaVu Sans Mono',consolas,'Courier New',monospace\"><span style=\"color: #008000; text-decoration-color: #008000\">Runtime:</span> <span style=\"color: #008080; text-decoration-color: #008080; font-weight: bold\">0.019995990099999705</span><span style=\"font-weight: bold\"> seconds</span>\n",
       "</pre>\n"
      ],
      "text/plain": [
       "\u001b[32mRuntime:\u001b[0m \u001b[1;36m0.019995990099999705\u001b[0m\u001b[1m seconds\u001b[0m\n"
      ]
     },
     "metadata": {},
     "output_type": "display_data"
    }
   ],
   "source": [
    "%matplotlib Agg\n",
    "test_create_histogram(create_histogram, data)"
   ]
  },
  {
   "cell_type": "code",
   "execution_count": 13,
   "metadata": {
    "id": "CeeiWut8HHa9"
   },
   "outputs": [
    {
     "name": "stdout",
     "output_type": "stream",
     "text": [
      "Tests Passed, Well Done 👏\n",
      "\n"
     ]
    },
    {
     "data": {
      "text/html": [
       "<pre style=\"white-space:pre;overflow-x:auto;line-height:normal;font-family:Menlo,'DejaVu Sans Mono',consolas,'Courier New',monospace\"><span style=\"color: #000080; text-decoration-color: #000080; font-weight: bold\">Code Efficiency Measures:</span>\n",
       "</pre>\n"
      ],
      "text/plain": [
       "\u001b[1;34mCode Efficiency Measures:\u001b[0m\n"
      ]
     },
     "metadata": {},
     "output_type": "display_data"
    },
    {
     "data": {
      "text/html": [
       "<pre style=\"white-space:pre;overflow-x:auto;line-height:normal;font-family:Menlo,'DejaVu Sans Mono',consolas,'Courier New',monospace\"><span style=\"color: #008000; text-decoration-color: #008000\">Runtime:</span> <span style=\"color: #008080; text-decoration-color: #008080; font-weight: bold\">0.001668320400000045</span><span style=\"font-weight: bold\"> seconds</span>\n",
       "</pre>\n"
      ],
      "text/plain": [
       "\u001b[32mRuntime:\u001b[0m \u001b[1;36m0.001668320400000045\u001b[0m\u001b[1m seconds\u001b[0m\n"
      ]
     },
     "metadata": {},
     "output_type": "display_data"
    }
   ],
   "source": [
    "%matplotlib Agg\n",
    "test_create_line_plot(create_line_plot, data)"
   ]
  },
  {
   "cell_type": "markdown",
   "metadata": {
    "id": "cRhnfclG6msG"
   },
   "source": [
    "# Task 3: Scatterplot (1P)\n",
    "\n",
    "**Reminder: before you start working on the next task, it might be a good time to save the notebook locally now (click \"File\" -> \"Download\").**\n",
    "\n",
    "---\n",
    "\n",
    "A scatter plot is a type of plot that displays values for two variables as points on a two-dimensional plane. The position of each point on the plot corresponds to its values for the two variables being plotted. Scatter plots are commonly used to identify patterns and relationships between variables, such as correlation or causation. They can be useful for data visualization, exploratory data analysis, and hypothesis testing. The plot can be customized by changing the marker shape, size, and color, as well as adding labels, titles, and legends.\n",
    "\n",
    "---\n",
    "\n",
    "In this task you need to perform the following:\n",
    "\n",
    "1. Create two sequence variables called x and y and assign them lists of numbers of your choice.\n",
    "2. Create a scatterplot using the plt.scatter() function with x and y as the data inputs. Label the x-axis with \"**X Values**\" and the y-axis with \"**Y Values**\". Add a title to the plot that says \"**Scatterplot of X and Y**\"."
   ]
  },
  {
   "cell_type": "code",
   "execution_count": 14,
   "metadata": {
    "deletable": false,
    "id": "zJCr-QHS6msG",
    "nbgrader": {
     "cell_type": "code",
     "checksum": "e4d4e532f3a751325080681aa0188f93",
     "grade": true,
     "grade_id": "cell-5391cae9581cdcc0",
     "locked": false,
     "points": 0,
     "schema_version": 3,
     "solution": true,
     "task": false
    },
    "tags": []
   },
   "outputs": [
    {
     "data": {
      "image/png": "[encoded data removed]",
      "text/plain": [
       "<Figure size 432x288 with 1 Axes>"
      ]
     },
     "metadata": {
      "needs_background": "light"
     },
     "output_type": "display_data"
    }
   ],
   "source": [
    "%matplotlib inline\n",
    "# Import Library Here\n",
    "import matplotlib.pyplot as plt\n",
    "\n",
    "def create_scatterplot(x, y):\n",
    "    \"\"\"TODO: Create a scatterplot using the plt.scatter() function with x and y as the data inputs.\n",
    "    Label the x-axis with \"X Values\" and the y-axis with \"Y Values\". Add a title to the plot that says\n",
    "    \"Scatterplot of X and Y\".\"\"\"\n",
    "\n",
    "    #TASK START - Start coding here:\n",
    "    plt.scatter(x, y)\n",
    "    plt.xlabel(\"X Values\")\n",
    "    plt.ylabel(\"Y Values\")\n",
    "    plt.title(\"Scatterplot of X and Y\")\n",
    "    plt.show()\n",
    "    \n",
    "    # TASK END\n",
    "\n",
    "#TASK START - Start coding here:\n",
    "\n",
    "# Create Your x and y data points:\n",
    "\n",
    "import random\n",
    "x = []\n",
    "y = []\n",
    "\n",
    "for i in range(0,50):\n",
    "    a = random.randint(1,50)\n",
    "    b = random.randint(51,100)\n",
    "    x.append(a)\n",
    "    y.append(b)\n",
    "\n",
    "# Call out the create_scatterplot function:\n",
    "create_scatterplot(x, y)\n",
    "\n",
    "# TASK END"
   ]
  },
  {
   "cell_type": "markdown",
   "metadata": {
    "id": "MnVYBd_26msG"
   },
   "source": [
    "If you want to test your solution, you can execute the following code cell.\n",
    "If your solution passes our test, it will simply print `Test passed.`\n",
    "If it does not work, you will get an error.\n",
    "In this case you need to fix the code above.\n",
    "(And do not forget to run the above code cell again!)"
   ]
  },
  {
   "cell_type": "code",
   "execution_count": 15,
   "metadata": {
    "id": "jCx98YqAHHa-"
   },
   "outputs": [
    {
     "name": "stdout",
     "output_type": "stream",
     "text": [
      "Tests Passed, Well Done 👏\n",
      "\n"
     ]
    },
    {
     "data": {
      "text/html": [
       "<pre style=\"white-space:pre;overflow-x:auto;line-height:normal;font-family:Menlo,'DejaVu Sans Mono',consolas,'Courier New',monospace\"><span style=\"color: #000080; text-decoration-color: #000080; font-weight: bold\">Code Efficiency Measures:</span>\n",
       "</pre>\n"
      ],
      "text/plain": [
       "\u001b[1;34mCode Efficiency Measures:\u001b[0m\n"
      ]
     },
     "metadata": {},
     "output_type": "display_data"
    },
    {
     "data": {
      "text/html": [
       "<pre style=\"white-space:pre;overflow-x:auto;line-height:normal;font-family:Menlo,'DejaVu Sans Mono',consolas,'Courier New',monospace\"><span style=\"color: #008000; text-decoration-color: #008000\">Runtime:</span> <span style=\"color: #008080; text-decoration-color: #008080; font-weight: bold\">0.003679557399999833</span><span style=\"font-weight: bold\"> seconds</span>\n",
       "</pre>\n"
      ],
      "text/plain": [
       "\u001b[32mRuntime:\u001b[0m \u001b[1;36m0.003679557399999833\u001b[0m\u001b[1m seconds\u001b[0m\n"
      ]
     },
     "metadata": {},
     "output_type": "display_data"
    }
   ],
   "source": [
    "%matplotlib agg\n",
    "test_create_scatterplot(create_scatterplot, x, y)"
   ]
  },
  {
   "cell_type": "markdown",
   "metadata": {
    "id": "0EP9ulri6msI"
   },
   "source": [
    "# Grading Tasks 1-3\n",
    "\n",
    "*Reminder: before you start grading the tasks, it might be a good time to save the notebook locally as well (click \"File\" -> \"Download\").*\n",
    "\n",
    "Please follow these instructions before you run the below code cell to grade the tasks 1 through 3:\n",
    "\n",
    "- Check that you have not modified the **Test case** code cells.\n",
    "- Check that you have **not created** new cells and **not deleted** existing cells in this notebook. (Otherwise the grading process might fail despite you having the correct solution, since it depends on the original order of notebook cell.)\n",
    "- Save (CTRL + S) your notebook everytime you want to have your tasks graded, the grader uses the last saved version.\n",
    "\n",
    "If you have done all the above, run the code cell below to run the grading process.\n",
    "Once that is done, click the \"Submit Assignment\" button and confirm your submission."
   ]
  },
  {
   "cell_type": "code",
   "execution_count": null,
   "metadata": {
    "id": "wry5YTk76msI",
    "tags": []
   },
   "outputs": [],
   "source": [
    "!python3 Ex1_Grader.pyc\n",
    "%run -i .button.py"
   ]
  },
  {
   "cell_type": "markdown",
   "metadata": {
    "id": "MeG_V5kW6msJ"
   },
   "source": [
    "# Draft Cells\n",
    "\n",
    "Feel free to add as many cells bellow here and try differnt code."
   ]
  },
  {
   "cell_type": "code",
   "execution_count": null,
   "metadata": {
    "id": "WikOVspa6msJ"
   },
   "outputs": [],
   "source": []
  }
 ],
 "metadata": {
  "colab": {
   "provenance": []
  },
  "kernelspec": {
   "display_name": "Python 3 (ipykernel)",
   "language": "python",
   "name": "python3"
  },
  "language_info": {
   "codemirror_mode": {
    "name": "ipython",
    "version": 3
   },
   "file_extension": ".py",
   "mimetype": "text/x-python",
   "name": "python",
   "nbconvert_exporter": "python",
   "pygments_lexer": "ipython3",
   "version": "3.9.7"
  }
 },
 "nbformat": 4,
 "nbformat_minor": 4
}
