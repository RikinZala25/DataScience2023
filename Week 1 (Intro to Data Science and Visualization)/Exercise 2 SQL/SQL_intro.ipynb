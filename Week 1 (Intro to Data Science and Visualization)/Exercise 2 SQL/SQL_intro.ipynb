{
 "cells": [
  {
   "cell_type": "markdown",
   "metadata": {},
   "source": [
    "# SQL exercise\n",
    "\n",
    "This is the second practical exercise of our course [Data Science Bootcamp](https://open.hpi.de/courses/datascience2023).  \n",
    "In this exercise, we focus on the basics of SQL as outlined in the video. Make sure to watch it carefully before starting with this exercise.\n",
    "\n",
    "---\n",
    "\\\n",
    "Here is a reminder about the technical limitations on this programming platform **OpenJupyter**:\n",
    "\n",
    "#### Inactivity and Saving\n",
    "\n",
    "- After 15 minutes of inactivity, the Python kernel shuts down, but the kernel is easy to restart if you continue your work within 60 minutes.\n",
    "- After 60 minutes of inactivity the data is deleted to free up resources for other users.\n",
    "- Therefore, please save the notebook locally (click \"File\" -> \"Download\") if you are pausing your work on the notebook for more than one hour. (We have put a reminder to save the notebook after each task.)\n",
    "- If you have to restore your work from a downloaded notebook, press the Upload Button and select your locally saved `.ipynb` file (confirm to overwrite).\n",
    "\n",
    "#### Grading\n",
    "\n",
    "- Solve the six tasks in this notebook and use the next learning item in the course (\"Solution sheet: SQL Quiz\") to insert your questions. Till the due date (which is **the 27th of June (11:55 pm / 23:55 UTC**), you can revise your answers. Only after the deadline, we will publish the results of this assignment, once this is done, you can discuss your answers and approach in the forum.\n",
    "---"
   ]
  },
  {
   "cell_type": "code",
   "execution_count": 1,
   "metadata": {
    "collapsed": false,
    "jupyter": {
     "outputs_hidden": false
    }
   },
   "outputs": [],
   "source": [
    "# Run this cell first and only once\n",
    "!python3 Ex2_Grader.pyc"
   ]
  },
  {
   "cell_type": "markdown",
   "metadata": {},
   "source": [
    "In order to  focus on the queries, use the following template:  \n",
    "We use pandas to start a connection with the database. Although multiple ways exists, we want you to focus on writing good and correct queries for now. We also wrote the correct connection, so that you can start directly. Take some time to check how we inititated the connection!"
   ]
  },
  {
   "cell_type": "code",
   "execution_count": 2,
   "metadata": {},
   "outputs": [],
   "source": [
    "## Loading relevant libraries for you\n",
    "## make sure to run this cell atleast once\n",
    "import sqlite3 as db\n",
    "import pandas as pd\n",
    "\n",
    "# Loading the csv dataset in a dataframe\n",
    "connection = db.connect (\"chinook.db\")\n",
    "\n",
    "# Technically, you need to disconnect after are finished. Once again, we won't include this for the sake of simplicity."
   ]
  },
  {
   "cell_type": "markdown",
   "metadata": {},
   "source": [
    "The following query list the band with the ID 1 from the table artists. Use it to bootstrap the next answers, you just have to change the variable 'query'.\n",
    "Do not split the query string into multiple lines."
   ]
  },
  {
   "cell_type": "code",
   "execution_count": 3,
   "metadata": {},
   "outputs": [
    {
     "name": "stdout",
     "output_type": "stream",
     "text": [
      "   ArtistId   Name\n",
      "0         1  AC/DC\n"
     ]
    }
   ],
   "source": [
    "query =\"select * from artists where artistID = 1\"\n",
    "df = pd.read_sql_query(query, connection)\n",
    "print (df)"
   ]
  },
  {
   "cell_type": "markdown",
   "metadata": {},
   "source": [
    "### Task 1: How many different artists are in the database? (1P)"
   ]
  },
  {
   "cell_type": "code",
   "execution_count": 22,
   "metadata": {},
   "outputs": [
    {
     "name": "stdout",
     "output_type": "stream",
     "text": [
      "   count(DISTINCT Name)\n",
      "0                   275\n"
     ]
    }
   ],
   "source": [
    "query = \"select count(DISTINCT Name) from artists\"\n",
    "df = pd.read_sql_query(query, connection)\n",
    "print (df)"
   ]
  },
  {
   "cell_type": "markdown",
   "metadata": {},
   "source": [
    "Please write that answer into the solution sheet on the [openHPI course](https://open.hpi.de/courses/datascience2023/items/1JiuxzLt263qxJBSIZ5VmY)"
   ]
  },
  {
   "cell_type": "markdown",
   "metadata": {},
   "source": [
    "### Task 2: How many columns does the table \"tracks\" has? (1P)"
   ]
  },
  {
   "cell_type": "code",
   "execution_count": 29,
   "metadata": {},
   "outputs": [
    {
     "name": "stdout",
     "output_type": "stream",
     "text": [
      "   cid          name            type  notnull dflt_value  pk\n",
      "0    0       TrackId         INTEGER        1       None   1\n",
      "1    1          Name   NVARCHAR(200)        1       None   0\n",
      "2    2       AlbumId         INTEGER        0       None   0\n",
      "3    3   MediaTypeId         INTEGER        1       None   0\n",
      "4    4       GenreId         INTEGER        0       None   0\n",
      "5    5      Composer   NVARCHAR(220)        0       None   0\n",
      "6    6  Milliseconds         INTEGER        1       None   0\n",
      "7    7         Bytes         INTEGER        0       None   0\n",
      "8    8     UnitPrice  NUMERIC(10, 2)        1       None   0\n",
      "\n",
      "There are 9 columns in tracks schema\n"
     ]
    }
   ],
   "source": [
    "query = \"PRAGMA table_info(tracks)\"\n",
    "df = pd.read_sql_query(query, connection)\n",
    "print (df)\n",
    "print(\"\\nThere are 9 columns in tracks schema\")"
   ]
  },
  {
   "cell_type": "markdown",
   "metadata": {},
   "source": [
    "Please write that answer into the solution sheet on the [openHPI course](https://open.hpi.de/courses/datascience2023/items/1JiuxzLt263qxJBSIZ5VmY)"
   ]
  },
  {
   "cell_type": "markdown",
   "metadata": {},
   "source": [
    "### Task 3: Does any customers have the same last name as an employee in this database? (2P)"
   ]
  },
  {
   "cell_type": "code",
   "execution_count": 12,
   "metadata": {},
   "outputs": [
    {
     "name": "stdout",
     "output_type": "stream",
     "text": [
      "  LastName LastName\n",
      "0    Smith    Smith\n"
     ]
    }
   ],
   "source": [
    "query = \"select customers.LastName, employees.LastName from customers,employees where customers.LastName = employees.LastName\"\n",
    "df = pd.read_sql_query(query, connection)\n",
    "\n",
    "print (df)"
   ]
  },
  {
   "cell_type": "markdown",
   "metadata": {},
   "source": [
    "Please write that answer into the solution sheet on the [openHPI course](https://open.hpi.de/courses/datascience2023/items/1JiuxzLt263qxJBSIZ5VmY)"
   ]
  },
  {
   "cell_type": "markdown",
   "metadata": {},
   "source": [
    "_Friendly reminder to save your notebook on a local level._"
   ]
  },
  {
   "cell_type": "markdown",
   "metadata": {},
   "source": [
    "### Task 4: What is the email address of the general manager? (1P)"
   ]
  },
  {
   "cell_type": "code",
   "execution_count": 16,
   "metadata": {},
   "outputs": [
    {
     "name": "stdout",
     "output_type": "stream",
     "text": [
      "                   Email\n",
      "0  laura@chinookcorp.com\n"
     ]
    }
   ],
   "source": [
    "query =\"select employees.Email from employees where Title = 'General Manager'\"\n",
    "df = pd.read_sql_query(query, connection)\n",
    "\n",
    "print (df)"
   ]
  },
  {
   "cell_type": "markdown",
   "metadata": {},
   "source": [
    "Please write that answer into the solution sheet on the [openHPI course](https://open.hpi.de/courses/datascience2023/items/1JiuxzLt263qxJBSIZ5VmY)"
   ]
  },
  {
   "cell_type": "markdown",
   "metadata": {},
   "source": [
    "### Task 5: Find the unit prices for each media type. (2P)"
   ]
  },
  {
   "cell_type": "code",
   "execution_count": 19,
   "metadata": {},
   "outputs": [
    {
     "name": "stdout",
     "output_type": "stream",
     "text": [
      "   MediaTypeId  UnitPrice\n",
      "0            1       0.99\n",
      "1            2       0.99\n",
      "2            3       1.99\n",
      "3            3       0.99\n",
      "4            4       0.99\n",
      "5            5       0.99\n"
     ]
    }
   ],
   "source": [
    "query = \"select distinct tracks.MediaTypeId, tracks.UnitPrice from tracks\"\n",
    "df = pd.read_sql_query(query, connection)\n",
    "\n",
    "print (df)"
   ]
  },
  {
   "cell_type": "markdown",
   "metadata": {},
   "source": [
    "Please write that answer into the solution sheet on the [openHPI course](https://open.hpi.de/courses/datascience2023/items/1JiuxzLt263qxJBSIZ5VmY)"
   ]
  },
  {
   "cell_type": "markdown",
   "metadata": {},
   "source": [
    "### Task 6: What is the lowest customerID from an invoice that is located in Germany? (2P) "
   ]
  },
  {
   "cell_type": "markdown",
   "metadata": {},
   "source": [
    "Hint: If we can use MAX() on a columnName, we can use MIN as well...\n"
   ]
  },
  {
   "cell_type": "code",
   "execution_count": 20,
   "metadata": {},
   "outputs": [
    {
     "name": "stdout",
     "output_type": "stream",
     "text": [
      "   MIN(invoices.CustomerId)\n",
      "0                         2\n"
     ]
    }
   ],
   "source": [
    "query = \"select MIN(invoices.CustomerId) from invoices where BillingCountry='Germany'\"\n",
    "df = pd.read_sql_query(query, connection)\n",
    "\n",
    "print (df)"
   ]
  },
  {
   "cell_type": "markdown",
   "metadata": {},
   "source": [
    "Please write that answer into the solution sheet on the [openHPI course](https://open.hpi.de/courses/datascience2023/items/1JiuxzLt263qxJBSIZ5VmY)"
   ]
  },
  {
   "cell_type": "markdown",
   "metadata": {},
   "source": [
    "Here are some empty cells, that are you can use, if you need more than the one above to test some queries."
   ]
  },
  {
   "cell_type": "code",
   "execution_count": null,
   "metadata": {},
   "outputs": [],
   "source": []
  },
  {
   "cell_type": "code",
   "execution_count": null,
   "metadata": {},
   "outputs": [],
   "source": []
  },
  {
   "cell_type": "code",
   "execution_count": null,
   "metadata": {},
   "outputs": [],
   "source": []
  }
 ],
 "metadata": {
  "kernelspec": {
   "display_name": "Python 3 (ipykernel)",
   "language": "python",
   "name": "python3"
  },
  "language_info": {
   "codemirror_mode": {
    "name": "ipython",
    "version": 3
   },
   "file_extension": ".py",
   "mimetype": "text/x-python",
   "name": "python",
   "nbconvert_exporter": "python",
   "pygments_lexer": "ipython3",
   "version": "3.9.7"
  }
 },
 "nbformat": 4,
 "nbformat_minor": 4
}
