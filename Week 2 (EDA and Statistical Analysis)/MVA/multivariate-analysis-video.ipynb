{
 "cells": [
  {
   "attachments": {},
   "cell_type": "markdown",
   "metadata": {},
   "source": [
    "### Multivariate Analysis"
   ]
  },
  {
   "attachments": {},
   "cell_type": "markdown",
   "metadata": {},
   "source": [
    "As our world is somewhat complex and one result might be influenced by various elements (variables?), we sometimes need for measures.\n",
    "\n",
    "How much rent is fair for a 2 bedroom and one bathroom with a balcony versus a single room with one bathroom?  \n",
    "How much cheaper is a used car, if it has less mileage, but is somewhat older than a newer one?"
   ]
  },
  {
   "cell_type": "code",
   "execution_count": 40,
   "metadata": {},
   "outputs": [],
   "source": [
    "import pandas as pd \n",
    "import numpy as np\n",
    "import seaborn as sns "
   ]
  },
  {
   "cell_type": "code",
   "execution_count": 41,
   "metadata": {},
   "outputs": [
    {
     "data": {
      "text/plain": [
       "(1427, 36)"
      ]
     },
     "execution_count": 41,
     "metadata": {},
     "output_type": "execute_result"
    }
   ],
   "source": [
    "\n",
    "# Loading the csv dataset in a dataframe\n",
    "df = pd.read_csv('ToyotaCorolla.csv')\n",
    "\n",
    "#Actual answer to the question\n",
    "df.shape"
   ]
  },
  {
   "cell_type": "code",
   "execution_count": 42,
   "metadata": {},
   "outputs": [
    {
     "name": "stdout",
     "output_type": "stream",
     "text": [
      "<class 'pandas.core.frame.DataFrame'>\n",
      "RangeIndex: 1427 entries, 0 to 1426\n",
      "Data columns (total 36 columns):\n",
      " #   Column            Non-Null Count  Dtype \n",
      "---  ------            --------------  ----- \n",
      " 0   Id                1427 non-null   int64 \n",
      " 1   Model             1427 non-null   object\n",
      " 2   Price             1427 non-null   int64 \n",
      " 3   Age               1427 non-null   int64 \n",
      " 4   Mfg_Month         1427 non-null   int64 \n",
      " 5   Mfg_Year          1427 non-null   int64 \n",
      " 6   KM                1427 non-null   int64 \n",
      " 7   Fuel_Type         1427 non-null   object\n",
      " 8   HP                1427 non-null   int64 \n",
      " 9   Met_Color         1427 non-null   int64 \n",
      " 10  Automatic         1427 non-null   int64 \n",
      " 11  cc                1427 non-null   int64 \n",
      " 12  Doors             1427 non-null   int64 \n",
      " 13  Cylinders         1427 non-null   int64 \n",
      " 14  Gears             1427 non-null   int64 \n",
      " 15  Quarterly_Tax     1427 non-null   int64 \n",
      " 16  Weight            1427 non-null   int64 \n",
      " 17  Mfr_Guarantee     1427 non-null   int64 \n",
      " 18  BOVAG_Guarantee   1427 non-null   int64 \n",
      " 19  Guarantee_Period  1427 non-null   int64 \n",
      " 20  ABS               1427 non-null   int64 \n",
      " 21  Airbag_1          1427 non-null   int64 \n",
      " 22  Airbag_2          1427 non-null   int64 \n",
      " 23  Airco             1427 non-null   int64 \n",
      " 24  Automatic_airco   1427 non-null   int64 \n",
      " 25  Boardcomputer     1427 non-null   int64 \n",
      " 26  Central_Lock      1427 non-null   int64 \n",
      " 27  Powered_Windows   1427 non-null   int64 \n",
      " 28  Power_Steering    1427 non-null   int64 \n",
      " 29  Radio             1427 non-null   int64 \n",
      " 30  Mistlamps         1427 non-null   int64 \n",
      " 31  Sport_Model       1427 non-null   int64 \n",
      " 32  Backseat_Divider  1427 non-null   int64 \n",
      " 33  Metallic_Rim      1427 non-null   int64 \n",
      " 34  Radio_cassette    1427 non-null   int64 \n",
      " 35  Tow_Bar           1427 non-null   int64 \n",
      "dtypes: int64(34), object(2)\n",
      "memory usage: 401.5+ KB\n"
     ]
    }
   ],
   "source": [
    "df.info()"
   ]
  },
  {
   "cell_type": "code",
   "execution_count": 43,
   "metadata": {},
   "outputs": [
    {
     "data": {
      "text/html": [
       "<div>\n",
       "<style scoped>\n",
       "    .dataframe tbody tr th:only-of-type {\n",
       "        vertical-align: middle;\n",
       "    }\n",
       "\n",
       "    .dataframe tbody tr th {\n",
       "        vertical-align: top;\n",
       "    }\n",
       "\n",
       "    .dataframe thead th {\n",
       "        text-align: right;\n",
       "    }\n",
       "</style>\n",
       "<table border=\"1\" class=\"dataframe\">\n",
       "  <thead>\n",
       "    <tr style=\"text-align: right;\">\n",
       "      <th></th>\n",
       "      <th>Id</th>\n",
       "      <th>Price</th>\n",
       "      <th>Age</th>\n",
       "      <th>Mfg_Month</th>\n",
       "      <th>Mfg_Year</th>\n",
       "      <th>KM</th>\n",
       "      <th>HP</th>\n",
       "      <th>Met_Color</th>\n",
       "      <th>Automatic</th>\n",
       "      <th>cc</th>\n",
       "      <th>...</th>\n",
       "      <th>Central_Lock</th>\n",
       "      <th>Powered_Windows</th>\n",
       "      <th>Power_Steering</th>\n",
       "      <th>Radio</th>\n",
       "      <th>Mistlamps</th>\n",
       "      <th>Sport_Model</th>\n",
       "      <th>Backseat_Divider</th>\n",
       "      <th>Metallic_Rim</th>\n",
       "      <th>Radio_cassette</th>\n",
       "      <th>Tow_Bar</th>\n",
       "    </tr>\n",
       "  </thead>\n",
       "  <tbody>\n",
       "    <tr>\n",
       "      <th>count</th>\n",
       "      <td>1427.000000</td>\n",
       "      <td>1427.000000</td>\n",
       "      <td>1427.000000</td>\n",
       "      <td>1427.000000</td>\n",
       "      <td>1427.000000</td>\n",
       "      <td>1427.000000</td>\n",
       "      <td>1427.000000</td>\n",
       "      <td>1427.000000</td>\n",
       "      <td>1427.000000</td>\n",
       "      <td>1427.000000</td>\n",
       "      <td>...</td>\n",
       "      <td>1427.000000</td>\n",
       "      <td>1427.000000</td>\n",
       "      <td>1427.000000</td>\n",
       "      <td>1427.000000</td>\n",
       "      <td>1427.000000</td>\n",
       "      <td>1427.000000</td>\n",
       "      <td>1427.000000</td>\n",
       "      <td>1427.000000</td>\n",
       "      <td>1427.000000</td>\n",
       "      <td>1427.000000</td>\n",
       "    </tr>\n",
       "    <tr>\n",
       "      <th>mean</th>\n",
       "      <td>717.036440</td>\n",
       "      <td>11017.934828</td>\n",
       "      <td>55.831815</td>\n",
       "      <td>5.540995</td>\n",
       "      <td>1999.635599</td>\n",
       "      <td>68852.239664</td>\n",
       "      <td>101.583041</td>\n",
       "      <td>0.676244</td>\n",
       "      <td>0.053959</td>\n",
       "      <td>1578.391731</td>\n",
       "      <td>...</td>\n",
       "      <td>0.583742</td>\n",
       "      <td>0.565522</td>\n",
       "      <td>0.978276</td>\n",
       "      <td>0.147162</td>\n",
       "      <td>0.257884</td>\n",
       "      <td>0.299229</td>\n",
       "      <td>0.770848</td>\n",
       "      <td>0.205326</td>\n",
       "      <td>0.146461</td>\n",
       "      <td>0.278907</td>\n",
       "    </tr>\n",
       "    <tr>\n",
       "      <th>std</th>\n",
       "      <td>413.869147</td>\n",
       "      <td>3469.246072</td>\n",
       "      <td>18.599523</td>\n",
       "      <td>3.351367</td>\n",
       "      <td>1.540139</td>\n",
       "      <td>37407.841512</td>\n",
       "      <td>14.981450</td>\n",
       "      <td>0.468072</td>\n",
       "      <td>0.226017</td>\n",
       "      <td>425.215342</td>\n",
       "      <td>...</td>\n",
       "      <td>0.493110</td>\n",
       "      <td>0.495862</td>\n",
       "      <td>0.145832</td>\n",
       "      <td>0.354391</td>\n",
       "      <td>0.437623</td>\n",
       "      <td>0.458081</td>\n",
       "      <td>0.420435</td>\n",
       "      <td>0.404081</td>\n",
       "      <td>0.353692</td>\n",
       "      <td>0.448619</td>\n",
       "    </tr>\n",
       "    <tr>\n",
       "      <th>min</th>\n",
       "      <td>1.000000</td>\n",
       "      <td>4350.000000</td>\n",
       "      <td>1.000000</td>\n",
       "      <td>1.000000</td>\n",
       "      <td>1998.000000</td>\n",
       "      <td>1.000000</td>\n",
       "      <td>69.000000</td>\n",
       "      <td>0.000000</td>\n",
       "      <td>0.000000</td>\n",
       "      <td>1300.000000</td>\n",
       "      <td>...</td>\n",
       "      <td>0.000000</td>\n",
       "      <td>0.000000</td>\n",
       "      <td>0.000000</td>\n",
       "      <td>0.000000</td>\n",
       "      <td>0.000000</td>\n",
       "      <td>0.000000</td>\n",
       "      <td>0.000000</td>\n",
       "      <td>0.000000</td>\n",
       "      <td>0.000000</td>\n",
       "      <td>0.000000</td>\n",
       "    </tr>\n",
       "    <tr>\n",
       "      <th>25%</th>\n",
       "      <td>359.500000</td>\n",
       "      <td>8950.000000</td>\n",
       "      <td>44.000000</td>\n",
       "      <td>3.000000</td>\n",
       "      <td>1998.000000</td>\n",
       "      <td>43340.000000</td>\n",
       "      <td>90.000000</td>\n",
       "      <td>0.000000</td>\n",
       "      <td>0.000000</td>\n",
       "      <td>1400.000000</td>\n",
       "      <td>...</td>\n",
       "      <td>0.000000</td>\n",
       "      <td>0.000000</td>\n",
       "      <td>1.000000</td>\n",
       "      <td>0.000000</td>\n",
       "      <td>0.000000</td>\n",
       "      <td>0.000000</td>\n",
       "      <td>1.000000</td>\n",
       "      <td>0.000000</td>\n",
       "      <td>0.000000</td>\n",
       "      <td>0.000000</td>\n",
       "    </tr>\n",
       "    <tr>\n",
       "      <th>50%</th>\n",
       "      <td>717.000000</td>\n",
       "      <td>9950.000000</td>\n",
       "      <td>61.000000</td>\n",
       "      <td>5.000000</td>\n",
       "      <td>1999.000000</td>\n",
       "      <td>63635.000000</td>\n",
       "      <td>110.000000</td>\n",
       "      <td>1.000000</td>\n",
       "      <td>0.000000</td>\n",
       "      <td>1600.000000</td>\n",
       "      <td>...</td>\n",
       "      <td>1.000000</td>\n",
       "      <td>1.000000</td>\n",
       "      <td>1.000000</td>\n",
       "      <td>0.000000</td>\n",
       "      <td>0.000000</td>\n",
       "      <td>0.000000</td>\n",
       "      <td>1.000000</td>\n",
       "      <td>0.000000</td>\n",
       "      <td>0.000000</td>\n",
       "      <td>0.000000</td>\n",
       "    </tr>\n",
       "    <tr>\n",
       "      <th>75%</th>\n",
       "      <td>1074.500000</td>\n",
       "      <td>11950.000000</td>\n",
       "      <td>70.000000</td>\n",
       "      <td>8.000000</td>\n",
       "      <td>2001.000000</td>\n",
       "      <td>87316.000000</td>\n",
       "      <td>110.000000</td>\n",
       "      <td>1.000000</td>\n",
       "      <td>0.000000</td>\n",
       "      <td>1600.000000</td>\n",
       "      <td>...</td>\n",
       "      <td>1.000000</td>\n",
       "      <td>1.000000</td>\n",
       "      <td>1.000000</td>\n",
       "      <td>0.000000</td>\n",
       "      <td>1.000000</td>\n",
       "      <td>1.000000</td>\n",
       "      <td>1.000000</td>\n",
       "      <td>0.000000</td>\n",
       "      <td>0.000000</td>\n",
       "      <td>1.000000</td>\n",
       "    </tr>\n",
       "    <tr>\n",
       "      <th>max</th>\n",
       "      <td>1433.000000</td>\n",
       "      <td>32500.000000</td>\n",
       "      <td>80.000000</td>\n",
       "      <td>12.000000</td>\n",
       "      <td>2004.000000</td>\n",
       "      <td>243000.000000</td>\n",
       "      <td>192.000000</td>\n",
       "      <td>1.000000</td>\n",
       "      <td>1.000000</td>\n",
       "      <td>16000.000000</td>\n",
       "      <td>...</td>\n",
       "      <td>1.000000</td>\n",
       "      <td>1.000000</td>\n",
       "      <td>1.000000</td>\n",
       "      <td>1.000000</td>\n",
       "      <td>1.000000</td>\n",
       "      <td>1.000000</td>\n",
       "      <td>1.000000</td>\n",
       "      <td>1.000000</td>\n",
       "      <td>1.000000</td>\n",
       "      <td>1.000000</td>\n",
       "    </tr>\n",
       "  </tbody>\n",
       "</table>\n",
       "<p>8 rows × 34 columns</p>\n",
       "</div>"
      ],
      "text/plain": [
       "                Id         Price          Age    Mfg_Month     Mfg_Year  \\\n",
       "count  1427.000000   1427.000000  1427.000000  1427.000000  1427.000000   \n",
       "mean    717.036440  11017.934828    55.831815     5.540995  1999.635599   \n",
       "std     413.869147   3469.246072    18.599523     3.351367     1.540139   \n",
       "min       1.000000   4350.000000     1.000000     1.000000  1998.000000   \n",
       "25%     359.500000   8950.000000    44.000000     3.000000  1998.000000   \n",
       "50%     717.000000   9950.000000    61.000000     5.000000  1999.000000   \n",
       "75%    1074.500000  11950.000000    70.000000     8.000000  2001.000000   \n",
       "max    1433.000000  32500.000000    80.000000    12.000000  2004.000000   \n",
       "\n",
       "                  KM           HP    Met_Color    Automatic            cc  \\\n",
       "count    1427.000000  1427.000000  1427.000000  1427.000000   1427.000000   \n",
       "mean    68852.239664   101.583041     0.676244     0.053959   1578.391731   \n",
       "std     37407.841512    14.981450     0.468072     0.226017    425.215342   \n",
       "min         1.000000    69.000000     0.000000     0.000000   1300.000000   \n",
       "25%     43340.000000    90.000000     0.000000     0.000000   1400.000000   \n",
       "50%     63635.000000   110.000000     1.000000     0.000000   1600.000000   \n",
       "75%     87316.000000   110.000000     1.000000     0.000000   1600.000000   \n",
       "max    243000.000000   192.000000     1.000000     1.000000  16000.000000   \n",
       "\n",
       "       ...  Central_Lock  Powered_Windows  Power_Steering        Radio  \\\n",
       "count  ...   1427.000000      1427.000000     1427.000000  1427.000000   \n",
       "mean   ...      0.583742         0.565522        0.978276     0.147162   \n",
       "std    ...      0.493110         0.495862        0.145832     0.354391   \n",
       "min    ...      0.000000         0.000000        0.000000     0.000000   \n",
       "25%    ...      0.000000         0.000000        1.000000     0.000000   \n",
       "50%    ...      1.000000         1.000000        1.000000     0.000000   \n",
       "75%    ...      1.000000         1.000000        1.000000     0.000000   \n",
       "max    ...      1.000000         1.000000        1.000000     1.000000   \n",
       "\n",
       "         Mistlamps  Sport_Model  Backseat_Divider  Metallic_Rim  \\\n",
       "count  1427.000000  1427.000000       1427.000000   1427.000000   \n",
       "mean      0.257884     0.299229          0.770848      0.205326   \n",
       "std       0.437623     0.458081          0.420435      0.404081   \n",
       "min       0.000000     0.000000          0.000000      0.000000   \n",
       "25%       0.000000     0.000000          1.000000      0.000000   \n",
       "50%       0.000000     0.000000          1.000000      0.000000   \n",
       "75%       1.000000     1.000000          1.000000      0.000000   \n",
       "max       1.000000     1.000000          1.000000      1.000000   \n",
       "\n",
       "       Radio_cassette      Tow_Bar  \n",
       "count     1427.000000  1427.000000  \n",
       "mean         0.146461     0.278907  \n",
       "std          0.353692     0.448619  \n",
       "min          0.000000     0.000000  \n",
       "25%          0.000000     0.000000  \n",
       "50%          0.000000     0.000000  \n",
       "75%          0.000000     1.000000  \n",
       "max          1.000000     1.000000  \n",
       "\n",
       "[8 rows x 34 columns]"
      ]
     },
     "execution_count": 43,
     "metadata": {},
     "output_type": "execute_result"
    }
   ],
   "source": [
    "df.describe()"
   ]
  },
  {
   "cell_type": "code",
   "execution_count": 44,
   "metadata": {},
   "outputs": [
    {
     "data": {
      "text/plain": [
       "<Axes: xlabel='Age', ylabel='Count'>"
      ]
     },
     "execution_count": 44,
     "metadata": {},
     "output_type": "execute_result"
    },
    {
     "data": {
      "image/png": "[encoded data removed]",
      "text/plain": [
       "<Figure size 640x480 with 1 Axes>"
      ]
     },
     "metadata": {},
     "output_type": "display_data"
    }
   ],
   "source": [
    "## Personally, I dont want to think in months, but years.\n",
    "x = df[\"Age\"] / 12\n",
    "sns.histplot(x)"
   ]
  },
  {
   "cell_type": "code",
   "execution_count": 45,
   "metadata": {},
   "outputs": [
    {
     "data": {
      "text/plain": [
       "<Axes: xlabel='HP', ylabel='Count'>"
      ]
     },
     "execution_count": 45,
     "metadata": {},
     "output_type": "execute_result"
    },
    {
     "data": {
      "image/png": "[encoded data removed]",
      "text/plain": [
       "<Figure size 640x480 with 1 Axes>"
      ]
     },
     "metadata": {},
     "output_type": "display_data"
    }
   ],
   "source": [
    "sns.histplot(df[\"HP\"])"
   ]
  },
  {
   "cell_type": "code",
   "execution_count": 46,
   "metadata": {},
   "outputs": [
    {
     "data": {
      "text/plain": [
       "<Axes: xlabel='KM', ylabel='Count'>"
      ]
     },
     "execution_count": 46,
     "metadata": {},
     "output_type": "execute_result"
    },
    {
     "data": {
      "image/png": "[encoded data removed]",
      "text/plain": [
       "<Figure size 640x480 with 1 Axes>"
      ]
     },
     "metadata": {},
     "output_type": "display_data"
    }
   ],
   "source": [
    "sns.histplot(df[\"KM\"])"
   ]
  },
  {
   "cell_type": "code",
   "execution_count": 47,
   "metadata": {},
   "outputs": [
    {
     "data": {
      "text/plain": [
       "<Axes: xlabel='Powered_Windows', ylabel='Count'>"
      ]
     },
     "execution_count": 47,
     "metadata": {},
     "output_type": "execute_result"
    },
    {
     "data": {
      "image/png": "[encoded data removed]",
      "text/plain": [
       "<Figure size 640x480 with 1 Axes>"
      ]
     },
     "metadata": {},
     "output_type": "display_data"
    }
   ],
   "source": [
    "# Graphical overview of the dichotomy (= \"dividing in two\")\n",
    "sns.histplot(df[\"Powered_Windows\"])"
   ]
  },
  {
   "attachments": {},
   "cell_type": "markdown",
   "metadata": {},
   "source": [
    "We have a medium dataset, but a lot of information about each individual entry (\"a broad description\" of each entry)"
   ]
  },
  {
   "attachments": {},
   "cell_type": "markdown",
   "metadata": {},
   "source": [
    "#### What makes a useful dependent (='output') variable?\n",
    "### Price!"
   ]
  },
  {
   "cell_type": "code",
   "execution_count": 48,
   "metadata": {},
   "outputs": [
    {
     "data": {
      "text/plain": [
       "count     1427.000000\n",
       "mean     11017.934828\n",
       "std       3469.246072\n",
       "min       4350.000000\n",
       "25%       8950.000000\n",
       "50%       9950.000000\n",
       "75%      11950.000000\n",
       "max      32500.000000\n",
       "Name: Price, dtype: float64"
      ]
     },
     "execution_count": 48,
     "metadata": {},
     "output_type": "execute_result"
    }
   ],
   "source": [
    "df[\"Price\"].describe()"
   ]
  },
  {
   "cell_type": "code",
   "execution_count": 49,
   "metadata": {},
   "outputs": [
    {
     "data": {
      "text/plain": [
       "<Axes: xlabel='Price', ylabel='Count'>"
      ]
     },
     "execution_count": 49,
     "metadata": {},
     "output_type": "execute_result"
    },
    {
     "data": {
      "image/png": "[encoded data removed]",
      "text/plain": [
       "<Figure size 640x480 with 1 Axes>"
      ]
     },
     "metadata": {},
     "output_type": "display_data"
    }
   ],
   "source": [
    "sns.histplot(data = df[\"Price\"])"
   ]
  },
  {
   "cell_type": "code",
   "execution_count": 50,
   "metadata": {},
   "outputs": [],
   "source": [
    "## Set price as the Y - variable (output):\n",
    "\n",
    "y = df['Price'].values \n",
    "\n",
    "## Choose a set of X's - reasons that influence the price of a car\n",
    "## Horsepower, Age and Mileage\n",
    "\n",
    "X = df[['Age', 'KM', 'Powered_Windows']].values\n",
    "\n",
    "## Task: Let's build an estimator model, that takes various independent (='input') variables and predicts the price, using a multivariate regression.\n"
   ]
  },
  {
   "cell_type": "code",
   "execution_count": 51,
   "metadata": {},
   "outputs": [
    {
     "data": {
      "text/html": [
       "<style>#sk-container-id-2 {color: black;background-color: white;}#sk-container-id-2 pre{padding: 0;}#sk-container-id-2 div.sk-toggleable {background-color: white;}#sk-container-id-2 label.sk-toggleable__label {cursor: pointer;display: block;width: 100%;margin-bottom: 0;padding: 0.3em;box-sizing: border-box;text-align: center;}#sk-container-id-2 label.sk-toggleable__label-arrow:before {content: \"▸\";float: left;margin-right: 0.25em;color: #696969;}#sk-container-id-2 label.sk-toggleable__label-arrow:hover:before {color: black;}#sk-container-id-2 div.sk-estimator:hover label.sk-toggleable__label-arrow:before {color: black;}#sk-container-id-2 div.sk-toggleable__content {max-height: 0;max-width: 0;overflow: hidden;text-align: left;background-color: #f0f8ff;}#sk-container-id-2 div.sk-toggleable__content pre {margin: 0.2em;color: black;border-radius: 0.25em;background-color: #f0f8ff;}#sk-container-id-2 input.sk-toggleable__control:checked~div.sk-toggleable__content {max-height: 200px;max-width: 100%;overflow: auto;}#sk-container-id-2 input.sk-toggleable__control:checked~label.sk-toggleable__label-arrow:before {content: \"▾\";}#sk-container-id-2 div.sk-estimator input.sk-toggleable__control:checked~label.sk-toggleable__label {background-color: #d4ebff;}#sk-container-id-2 div.sk-label input.sk-toggleable__control:checked~label.sk-toggleable__label {background-color: #d4ebff;}#sk-container-id-2 input.sk-hidden--visually {border: 0;clip: rect(1px 1px 1px 1px);clip: rect(1px, 1px, 1px, 1px);height: 1px;margin: -1px;overflow: hidden;padding: 0;position: absolute;width: 1px;}#sk-container-id-2 div.sk-estimator {font-family: monospace;background-color: #f0f8ff;border: 1px dotted black;border-radius: 0.25em;box-sizing: border-box;margin-bottom: 0.5em;}#sk-container-id-2 div.sk-estimator:hover {background-color: #d4ebff;}#sk-container-id-2 div.sk-parallel-item::after {content: \"\";width: 100%;border-bottom: 1px solid gray;flex-grow: 1;}#sk-container-id-2 div.sk-label:hover label.sk-toggleable__label {background-color: #d4ebff;}#sk-container-id-2 div.sk-serial::before {content: \"\";position: absolute;border-left: 1px solid gray;box-sizing: border-box;top: 0;bottom: 0;left: 50%;z-index: 0;}#sk-container-id-2 div.sk-serial {display: flex;flex-direction: column;align-items: center;background-color: white;padding-right: 0.2em;padding-left: 0.2em;position: relative;}#sk-container-id-2 div.sk-item {position: relative;z-index: 1;}#sk-container-id-2 div.sk-parallel {display: flex;align-items: stretch;justify-content: center;background-color: white;position: relative;}#sk-container-id-2 div.sk-item::before, #sk-container-id-2 div.sk-parallel-item::before {content: \"\";position: absolute;border-left: 1px solid gray;box-sizing: border-box;top: 0;bottom: 0;left: 50%;z-index: -1;}#sk-container-id-2 div.sk-parallel-item {display: flex;flex-direction: column;z-index: 1;position: relative;background-color: white;}#sk-container-id-2 div.sk-parallel-item:first-child::after {align-self: flex-end;width: 50%;}#sk-container-id-2 div.sk-parallel-item:last-child::after {align-self: flex-start;width: 50%;}#sk-container-id-2 div.sk-parallel-item:only-child::after {width: 0;}#sk-container-id-2 div.sk-dashed-wrapped {border: 1px dashed gray;margin: 0 0.4em 0.5em 0.4em;box-sizing: border-box;padding-bottom: 0.4em;background-color: white;}#sk-container-id-2 div.sk-label label {font-family: monospace;font-weight: bold;display: inline-block;line-height: 1.2em;}#sk-container-id-2 div.sk-label-container {text-align: center;}#sk-container-id-2 div.sk-container {/* jupyter's `normalize.less` sets `[hidden] { display: none; }` but bootstrap.min.css set `[hidden] { display: none !important; }` so we also need the `!important` here to be able to override the default hidden behavior on the sphinx rendered scikit-learn.org. See: https://github.com/scikit-learn/scikit-learn/issues/21755 */display: inline-block !important;position: relative;}#sk-container-id-2 div.sk-text-repr-fallback {display: none;}</style><div id=\"sk-container-id-2\" class=\"sk-top-container\"><div class=\"sk-text-repr-fallback\"><pre>LinearRegression()</pre><b>In a Jupyter environment, please rerun this cell to show the HTML representation or trust the notebook. <br />On GitHub, the HTML representation is unable to render, please try loading this page with nbviewer.org.</b></div><div class=\"sk-container\" hidden><div class=\"sk-item\"><div class=\"sk-estimator sk-toggleable\"><input class=\"sk-toggleable__control sk-hidden--visually\" id=\"sk-estimator-id-2\" type=\"checkbox\" checked><label for=\"sk-estimator-id-2\" class=\"sk-toggleable__label sk-toggleable__label-arrow\">LinearRegression</label><div class=\"sk-toggleable__content\"><pre>LinearRegression()</pre></div></div></div></div></div>"
      ],
      "text/plain": [
       "LinearRegression()"
      ]
     },
     "execution_count": 51,
     "metadata": {},
     "output_type": "execute_result"
    }
   ],
   "source": [
    "import sklearn\n",
    "from sklearn import linear_model \n",
    "\n",
    "regr = linear_model.LinearRegression()\n",
    "regr.fit(X, y) "
   ]
  },
  {
   "cell_type": "code",
   "execution_count": 52,
   "metadata": {},
   "outputs": [
    {
     "name": "stdout",
     "output_type": "stream",
     "text": [
      "[8697.00601983]\n"
     ]
    }
   ],
   "source": [
    "## Predict the price of a car, that has 108k kilometers, is 64 months old and has powered windows?\n",
    "\n",
    "pricePrediction = regr.predict([[64, 108000, 0]])\n",
    "print (pricePrediction)"
   ]
  },
  {
   "cell_type": "code",
   "execution_count": 53,
   "metadata": {},
   "outputs": [
    {
     "name": "stdout",
     "output_type": "stream",
     "text": [
      "[9588.00089903]\n"
     ]
    }
   ],
   "source": [
    "## How much money would the model predict for that same car, but WITH powered windows?\n",
    "pricePrediction = regr.predict([[64, 108000, 1]])\n",
    "print (pricePrediction)"
   ]
  },
  {
   "cell_type": "code",
   "execution_count": 54,
   "metadata": {},
   "outputs": [
    {
     "name": "stdout",
     "output_type": "stream",
     "text": [
      "[890.99487921]\n"
     ]
    }
   ],
   "source": [
    "print (regr.predict([[64, 108000, 1]]) - (regr.predict([[64, 108000, 0]])))"
   ]
  },
  {
   "cell_type": "code",
   "execution_count": 55,
   "metadata": {},
   "outputs": [
    {
     "name": "stdout",
     "output_type": "stream",
     "text": [
      "[18187.89197423]\n"
     ]
    }
   ],
   "source": [
    "### Trying to sell my 6 month old car, barely driven (4500 km) with no powered windows.\n",
    "pricePrediction = regr.predict([[6, 4500, 0]])\n",
    "print (pricePrediction)"
   ]
  },
  {
   "cell_type": "code",
   "execution_count": 56,
   "metadata": {},
   "outputs": [
    {
     "name": "stdout",
     "output_type": "stream",
     "text": [
      "[19048.34664183]\n"
     ]
    }
   ],
   "source": [
    "## One last special case. What happens if my car has 0 months, zero kilometers and no powered windows?\n",
    "pricePrediction = regr.predict([[0, 0, 0]])\n",
    "print (pricePrediction)"
   ]
  },
  {
   "attachments": {},
   "cell_type": "markdown",
   "metadata": {},
   "source": [
    "What this number means mathematically and in context with the data set, is **part of the next assignment**."
   ]
  },
  {
   "attachments": {},
   "cell_type": "markdown",
   "metadata": {},
   "source": [
    "If you have ever entered some rough data in any online estimator and it immediately presented a brief result (_combined with a newsletter opportunity to get more information..._) you know now, how they do it."
   ]
  },
  {
   "attachments": {},
   "cell_type": "markdown",
   "metadata": {},
   "source": [
    "But... how does an increase of one, result in a different price?"
   ]
  },
  {
   "cell_type": "code",
   "execution_count": 57,
   "metadata": {},
   "outputs": [
    {
     "name": "stdout",
     "output_type": "stream",
     "text": [
      "[-1.28744643e+02 -1.95526250e-02  8.90994879e+02]\n"
     ]
    }
   ],
   "source": [
    "# What are the coefficients of Age, KM and Powered Windows?\n",
    "# X = df[['Age', 'KM', 'Powered_Windows']].values\n",
    "print(regr.coef_) "
   ]
  },
  {
   "attachments": {},
   "cell_type": "markdown",
   "metadata": {},
   "source": [
    "Reading like:  \n",
    "An increase of one Month *decreases* the price by **148**  \n",
    "An increase of one kilometer *decreased* the value by **0.0163**  \n",
    "Having a powered window *increased* the value by approx. **840**  "
   ]
  },
  {
   "attachments": {},
   "cell_type": "markdown",
   "metadata": {},
   "source": [
    "Or in general terms:\n",
    "price = (-148 * $age_in_months) + (-0.0163 * $kilometer) + 840 * [$window_yes_no]\n",
    "\n",
    "or in general terms: f(x) = m0* x0 + m1* x1 + ... + mn * xn + b"
   ]
  }
 ],
 "metadata": {
  "kernelspec": {
   "display_name": "Python 3",
   "language": "python",
   "name": "python3"
  },
  "language_info": {
   "codemirror_mode": {
    "name": "ipython",
    "version": 3
   },
   "file_extension": ".py",
   "mimetype": "text/x-python",
   "name": "python",
   "nbconvert_exporter": "python",
   "pygments_lexer": "ipython3",
   "version": "3.11.0"
  },
  "orig_nbformat": 4
 },
 "nbformat": 4,
 "nbformat_minor": 2
}
