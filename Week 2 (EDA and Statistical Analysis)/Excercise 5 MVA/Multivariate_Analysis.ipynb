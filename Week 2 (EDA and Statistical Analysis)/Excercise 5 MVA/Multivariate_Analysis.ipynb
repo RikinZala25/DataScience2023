{
 "cells": [
  {
   "cell_type": "markdown",
   "metadata": {},
   "source": [
    "### Multivariate Analysis: Exercise\n",
    "This is the fifth practical exercise of our course [Data Science Bootcamp](https://open.hpi.de/courses/datascience2023).  \n",
    "In this exercise, we focus on conducting a multivariate analysis (or MVA) as outlined in the video. Make sure to watch it carefully before starting with this exercise.\n",
    "\n",
    "---\n",
    "\\\n",
    "Here is a reminder about the technical limitations on this programming platform **OpenJupyter**:\n",
    "\n",
    "#### Inactivity and Saving\n",
    "\n",
    "- After 15 minutes of inactivity, the Python kernel shuts down, but the kernel is easy to restart if you continue your work within 60 minutes.\n",
    "- After 60 minutes of inactivity the data is deleted to free up resources for other users.\n",
    "- Therefore, please save the notebook locally (click \"File\" -> \"Download\") if you are pausing your work on the notebook for more than one hour. (We have put a reminder to save the notebook after each task.)\n",
    "- If you have to restore your work from a downloaded notebook, press the Upload Button and select your locally saved `.ipynb` file (confirm to overwrite).\n",
    "\n",
    "#### Grading\n",
    "\n",
    "- Solve the nine tasks in this notebook and use the next learning item in the course (\"Solution sheet: MVA Quiz\") to insert your questions. Till the due date (which is **the 27th of June (11:55 pm / 23:55 UTC**), you can revise your answers. Only after the deadline, we will publish the results of this assignment, **after this due date**, you can discuss your answers and approach in the forum.\n",
    "---"
   ]
  },
  {
   "cell_type": "code",
   "execution_count": 74,
   "metadata": {},
   "outputs": [],
   "source": [
    "# Run this cell first\n",
    "from Ex5_Grader import *\n",
    "%matplotlib inline"
   ]
  },
  {
   "cell_type": "markdown",
   "metadata": {},
   "source": [
    "### General questions\n",
    "_Hint from your teaching team_: Find the following answers, by applying various data science techniques and functions to the ToyotaCorolla dataset, some of them from week 1, some of them from the EDA of week 2. Only guessing based on the previous video is not the correct approach."
   ]
  },
  {
   "cell_type": "code",
   "execution_count": 75,
   "metadata": {},
   "outputs": [],
   "source": [
    "# Do not change, delete or adapt this cell:\n",
    "import pandas as pd \n",
    "import numpy as np\n",
    "import seaborn as sns "
   ]
  },
  {
   "cell_type": "code",
   "execution_count": 76,
   "metadata": {},
   "outputs": [],
   "source": [
    "# Do not change, delete or adapt this cell:\n",
    "# Loading the csv dataset in a dataframe\n",
    "df = pd.read_csv('.ToyotaCorolla.csv')"
   ]
  },
  {
   "cell_type": "markdown",
   "metadata": {},
   "source": [
    "### Task 1: How many different columns does the ToyotaCorolla set have? (1P)\n",
    "\n",
    "Use dataframe functions to figure out the answer then simply insert the numerical value in ```columns_number```\n",
    "\n",
    "#### This question will be answered in the solution sheet quiz Question 1"
   ]
  },
  {
   "cell_type": "code",
   "execution_count": 77,
   "metadata": {},
   "outputs": [
    {
     "name": "stdout",
     "output_type": "stream",
     "text": [
      "36\n"
     ]
    }
   ],
   "source": [
    "def get_columns_number(df):\n",
    "    # Return the number of columns given a df\n",
    "\n",
    "    columns_number = len(df.axes[1]) # insert number of columns here\n",
    "    \n",
    "    return columns_number\n",
    "\n",
    "columns_number = get_columns_number(df)\n",
    "print(columns_number)"
   ]
  },
  {
   "cell_type": "markdown",
   "metadata": {},
   "source": [
    "If you want to test your solution, you can execute the following code cell.\n",
    "If your solution passes our test, it will simply print `Test passed.`\n",
    "If it does not work, you will get an error.\n",
    "In this case you need to fix the code above.\n",
    "(And do not forget to run the above code cell again!)"
   ]
  },
  {
   "cell_type": "code",
   "execution_count": 78,
   "metadata": {},
   "outputs": [
    {
     "name": "stdout",
     "output_type": "stream",
     "text": [
      "Tests Passed, Well Done 👏\n"
     ]
    }
   ],
   "source": [
    "test_get_columns_number(columns_number)"
   ]
  },
  {
   "cell_type": "markdown",
   "metadata": {},
   "source": [
    "### Task 2: How many individual cars are in the dataset? (1P)\n",
    "\n",
    "Use dataframe functions to figure out the answer then simply insert the numerical value in ```cars```\n",
    "\n",
    "#### This question will be answered in the solution sheet quiz Question 2"
   ]
  },
  {
   "cell_type": "code",
   "execution_count": 79,
   "metadata": {
    "tags": []
   },
   "outputs": [
    {
     "name": "stdout",
     "output_type": "stream",
     "text": [
      "1427\n"
     ]
    }
   ],
   "source": [
    "def get_cars_number(df):\n",
    "    # Return the number of individual cars given a df\n",
    "    cars = df['Id'].nunique() # insert number of cars here\n",
    "    \n",
    "    return cars\n",
    "\n",
    "cars = get_cars_number(df)\n",
    "print(cars)"
   ]
  },
  {
   "cell_type": "markdown",
   "metadata": {},
   "source": [
    "If you want to test your solution, you can execute the following code cell.\n",
    "If your solution passes our test, it will simply print `Test passed.`\n",
    "If it does not work, you will get an error.\n",
    "In this case you need to fix the code above.\n",
    "(And do not forget to run the above code cell again!)"
   ]
  },
  {
   "cell_type": "code",
   "execution_count": 80,
   "metadata": {},
   "outputs": [
    {
     "name": "stdout",
     "output_type": "stream",
     "text": [
      "Tests Passed, Well Done 👏\n"
     ]
    }
   ],
   "source": [
    "test_get_cars_number(cars)"
   ]
  },
  {
   "cell_type": "markdown",
   "metadata": {},
   "source": [
    "### Task 3: How many unique models of cars are present? 2P  \n",
    "\n",
    "Note: *Models* refers to the variants of cars, not to the *statistical* term 'model'. \n",
    "\n",
    "This task might be a little bit tricky and it is maybe necessary to consult your favorite search engine.  \n",
    "Please, do not reveal straight-up answers in the forum. \n",
    "\n",
    "Think of it like a real-case scenario: You know enough about the data set and Python. Now, you have to fulfill a clients' request by finding the correct approach in the libraries numpy or pandas.  \n",
    "To end on a good note and give you motivation: It's a short code snippet, and not some crazy loop or iteration - although that obiviously works as well.  \n",
    "\n",
    "In case you need help, at the very end of the notebook, some further hints are noted.  \n",
    "You got this!\n",
    "\n",
    "#### This question will be answered in the solution sheet quiz Question 3"
   ]
  },
  {
   "cell_type": "code",
   "execution_count": 81,
   "metadata": {},
   "outputs": [
    {
     "name": "stdout",
     "output_type": "stream",
     "text": [
      "371\n"
     ]
    }
   ],
   "source": [
    "def get_unique_models(df):\n",
    "    # Return the number of unique models of cars given a df\n",
    "    unique_models = df['Model'].nunique() # insert number of unique models here\n",
    "\n",
    "    return unique_models\n",
    "\n",
    "unique_models = get_unique_models(df)\n",
    "print(unique_models)"
   ]
  },
  {
   "cell_type": "markdown",
   "metadata": {},
   "source": [
    "If you want to test your solution, you can execute the following code cell.\n",
    "If your solution passes our test, it will simply print `Test passed.`\n",
    "If it does not work, you will get an error.\n",
    "In this case you need to fix the code above.\n",
    "(And do not forget to run the above code cell again!)"
   ]
  },
  {
   "cell_type": "code",
   "execution_count": 82,
   "metadata": {},
   "outputs": [
    {
     "name": "stdout",
     "output_type": "stream",
     "text": [
      "Tests Passed, Well Done 👏\n"
     ]
    }
   ],
   "source": [
    "test_get_unique_models(unique_models)"
   ]
  },
  {
   "cell_type": "markdown",
   "metadata": {},
   "source": [
    "### Task 4: Would the variable \"gears\" be a good input variable for an MVA? (1P)\n",
    "\n",
    "Hint: Remember how we evaluated this in the video. You can choose the same approach, or find another one.   \n",
    "For the sake of your learning progress and to prepare you for more difficult tasks later, *don't guess it*, but find a data science approach to it.\n",
    "\n",
    "#### This question will be answered in the solution sheet quiz Question 4"
   ]
  },
  {
   "cell_type": "code",
   "execution_count": 83,
   "metadata": {},
   "outputs": [
    {
     "name": "stdout",
     "output_type": "stream",
     "text": [
      "count    1427.000000\n",
      "mean        5.027330\n",
      "std         0.187128\n",
      "min         3.000000\n",
      "25%         5.000000\n",
      "50%         5.000000\n",
      "75%         5.000000\n",
      "max         6.000000\n",
      "Name: Gears, dtype: float64\n"
     ]
    },
    {
     "data": {
      "image/png": "[encoded data removed]",
      "text/plain": [
       "<Figure size 432x288 with 1 Axes>"
      ]
     },
     "metadata": {
      "needs_background": "light"
     },
     "output_type": "display_data"
    }
   ],
   "source": [
    "# Graphical solution\n",
    "sns.histplot(data = df['Gears'])\n",
    "# Mathematical solution\n",
    "print(df['Gears'].describe())"
   ]
  },
  {
   "cell_type": "markdown",
   "metadata": {},
   "source": [
    "#### *Friendly reminder to create a local **backup** of this notebook*"
   ]
  },
  {
   "cell_type": "markdown",
   "metadata": {},
   "source": [
    "## The MVA task\n",
    "\n",
    "Your main task now is building a multivariate model predicting the **price** of a car, as outlined in the video. \n",
    "\n",
    "Make sure to also check the previous text item! If you need more than the following cells, use the debugging cells at the end of the notebook. \n",
    "\n",
    "You might want to use df.info() to get an overview of the data first for instance\n",
    "\n",
    "---\n",
    "\n",
    "Now, build an MVA predicting the price of a car with the following variables:  \n",
    "\n",
    "- The Age of the car \n",
    "- the total kilometers driven \n",
    "- existence of powered windows\n",
    "- number of doors\n",
    "- having a central lock (or not)\n",
    "\n",
    "-----"
   ]
  },
  {
   "cell_type": "markdown",
   "metadata": {},
   "source": [
    "### We start by preparing our data"
   ]
  },
  {
   "cell_type": "code",
   "execution_count": 92,
   "metadata": {},
   "outputs": [],
   "source": [
    "# Set price as the y - variable (output):\n",
    "## FILLED BY YOU\n",
    "y = df['Price'].values \n",
    "## Choose a set of X's - reasons that influence the price of a car (Make sure to follow the order mentioned above)\n",
    "## FILLED BY YOU\n",
    "X = df[['Age', 'KM', 'Powered_Windows', 'Doors', 'Central_Lock']].values"
   ]
  },
  {
   "cell_type": "markdown",
   "metadata": {},
   "source": [
    "### Now, Let's build our estimator model, that takes various independent (='input') variables and predicts the price, using a multivariate regression.\n"
   ]
  },
  {
   "cell_type": "code",
   "execution_count": 93,
   "metadata": {
    "collapsed": false,
    "jupyter": {
     "outputs_hidden": false
    }
   },
   "outputs": [
    {
     "data": {
      "text/plain": [
       "LinearRegression()"
      ]
     },
     "execution_count": 93,
     "metadata": {},
     "output_type": "execute_result"
    }
   ],
   "source": [
    "# We start by importing our model from the sklearn library\n",
    "from sklearn import linear_model\n",
    "\n",
    "## FILLED BY YOU\n",
    "\n",
    "# Intitialize a linear regression model and fit it to your data\n",
    "regr = linear_model.LinearRegression()\n",
    "regr.fit(X, y)"
   ]
  },
  {
   "cell_type": "markdown",
   "metadata": {},
   "source": [
    "## Now that you have created your model and have your X and Y data prepared above\n",
    "\n",
    "### Task 5: Predict the price of a car, that has 108.000 kilometers, is 64 months old, has no powered windows with 3 doors and a central lock? 1P\n",
    "\n",
    "*Please don't change the name of the variable mentioned in the cell and provide the output coming directly from your model*\n",
    "\n",
    "#### This question will be answered in the solution sheet quiz Question 5"
   ]
  },
  {
   "cell_type": "code",
   "execution_count": 101,
   "metadata": {},
   "outputs": [
    {
     "name": "stdout",
     "output_type": "stream",
     "text": [
      "[8766.504319]\n"
     ]
    }
   ],
   "source": [
    "# Input the values given to your regression model and print the predicted price\n",
    "pricePrediction1 = regr.predict([[64, 108000, 0, 3, 1]])\n",
    "print (pricePrediction1)\n",
    "# Output should look something like this\n",
    "# [11111.11111]  <--- Obviously this is not the right answer ;)"
   ]
  },
  {
   "cell_type": "markdown",
   "metadata": {},
   "source": [
    "### Task 6: Predict the price of the same car, but with five doors. 1P\n",
    "*Please don't change the name of the variable mentioned in the cell and provide the output coming directly from your model*\n",
    "\n",
    "#### This question will be answered in the solution sheet quiz Question 6"
   ]
  },
  {
   "cell_type": "code",
   "execution_count": 105,
   "metadata": {},
   "outputs": [
    {
     "name": "stdout",
     "output_type": "stream",
     "text": [
      "[9230.265440]\n"
     ]
    }
   ],
   "source": [
    "pricePrediction2 = regr.predict([[64, 108000, 0, 5, 1]])\n",
    "print (pricePrediction2)"
   ]
  },
  {
   "cell_type": "markdown",
   "metadata": {},
   "source": [
    "### Task 7: How much money would the model predict for that same car as in Task 6, but WITHOUT powered windows and no central lock? 1P  \n",
    "*Please don't change the name of the variable mentioned in the cell and provide the output coming directly from your model*\n",
    "\n",
    "#### This question will be answered in the solution sheet quiz Question 7"
   ]
  },
  {
   "cell_type": "code",
   "execution_count": 106,
   "metadata": {},
   "outputs": [
    {
     "name": "stdout",
     "output_type": "stream",
     "text": [
      "[8908.151101]\n"
     ]
    }
   ],
   "source": [
    "pricePrediction3 = regr.predict([[64, 108000, 0, 5, 0]])\n",
    "print (pricePrediction3)"
   ]
  },
  {
   "cell_type": "markdown",
   "metadata": {},
   "source": [
    "If you want to test your solution for tasks 5,6 and 7, you can execute the following code cell.\n",
    "If your solution passes our test, it will simply print `Test passed.`\n",
    "If it does not work, you will get an error.\n",
    "In this case you need to fix the code above.\n",
    "(And do not forget to run the above code cell again!)"
   ]
  },
  {
   "cell_type": "code",
   "execution_count": 107,
   "metadata": {},
   "outputs": [
    {
     "name": "stdout",
     "output_type": "stream",
     "text": [
      "Tests Passed, Well Done 👏\n"
     ]
    }
   ],
   "source": [
    "MVA_grader(pricePrediction1, pricePrediction2, pricePrediction3)"
   ]
  },
  {
   "cell_type": "markdown",
   "metadata": {},
   "source": [
    "## Now that our model is working and have used it to predict some values already, lets calculate the coefficients of this five-variable model.\n",
    "\n",
    "### Make sure you got this command in your toolkit, we surely need it later in the course."
   ]
  },
  {
   "cell_type": "code",
   "execution_count": 116,
   "metadata": {},
   "outputs": [
    {
     "name": "stdout",
     "output_type": "stream",
     "text": [
      "[-126.534829 -0.019980 581.728806 231.880561 322.114339]\n"
     ]
    }
   ],
   "source": [
    "# What are the coefficients ?\n",
    "print(regr.coef_)"
   ]
  },
  {
   "cell_type": "markdown",
   "metadata": {},
   "source": [
    "### Task 8: Interpret the meaning behind the coefficient values for each of the five variables (4P)\n",
    "#### This question will be answered in the solution sheet quiz Question 2, so have a good look and get ready to explain the logic behind the numbers. :-)  \n",
    "\n",
    "If you can't make sense of the notation, you want to learn about the \"scientific notation\", e.g. in through this [Wikipedia article](https://en.wikipedia.org/wiki/Scientific_notation).  \n",
    "\n",
    "Additionally, here is a command to change the _view_ of a numpy n-dimensional array (ndarray) to a better readable float format."
   ]
  },
  {
   "cell_type": "code",
   "execution_count": 117,
   "metadata": {},
   "outputs": [
    {
     "name": "stdout",
     "output_type": "stream",
     "text": [
      "[-126.530000 -0.020000 581.730000 231.880000 322.110000]\n"
     ]
    }
   ],
   "source": [
    "# Changes the view - does not transform! - the array.\n",
    "np.set_printoptions(formatter={'float_kind':'{:f}'.format})\n",
    "\n",
    "# Rounding to two decimal points.\n",
    "print(np.around(regr.coef_,2))"
   ]
  },
  {
   "cell_type": "markdown",
   "metadata": {},
   "source": [
    "#### remember the order of your X features mentioned at the beginning of the task"
   ]
  },
  {
   "cell_type": "markdown",
   "metadata": {},
   "source": [
    "### Task 9: Why are these coefficients different from the ones you saw in the video? (1P)\n",
    "#### This question will be answered in the solution sheet quiz Question 3\n",
    "\n",
    "----"
   ]
  },
  {
   "cell_type": "markdown",
   "metadata": {},
   "source": [
    "### What about if we enter an input of all-zeros?? Can the model really predict such a case? Does it even make sense?"
   ]
  },
  {
   "cell_type": "markdown",
   "metadata": {},
   "source": [
    "Finally, we ask you to think about the special case of the video, having a model that inputs `([[0, 0, 0, 0, 0]])` into our new pricePrediction.  \n",
    "What is that about? Feel free to think about it and apply this input to your new MVA.  \n",
    "\n",
    "In the video, we asked about the special case, if we had a car, that is undriven and unused. In other words, we are looking for a car, that inserts only zeros in our new multivariate model.  \n",
    "Again, we prepared a hint at the end of this notebook.\n",
    "\n",
    "----"
   ]
  },
  {
   "cell_type": "markdown",
   "metadata": {},
   "source": [
    "# Grading Tasks 1-9 excluding (Tasks: 4, 8 and 9)\n",
    "\n",
    "*Reminder: before you start grading the tasks, it might be a good time to save the notebook locally as well (click \"File\" -> \"Download\").*\n",
    "\n",
    "Please follow these instructions before you run the below code cell to grade the tasks 1 through 9:\n",
    "\n",
    "- Check that you have not modified the **Test case** code cells.\n",
    "- Check that you have **not created** new cells and **not deleted** existing cells in this notebook. (Otherwise the grading process might fail despite you having the correct solution, since it depends on the original order of notebook cell.)\n",
    "- Save (CTRL + S) your notebook everytime you want to have your tasks graded, the grader uses the last saved version.\n",
    "\n",
    "If you have done all the above, run the code cell below to run the grading process.\n",
    "Once that is done, click the \"Submit Assignment\" button and confirm your submission."
   ]
  },
  {
   "cell_type": "code",
   "execution_count": 119,
   "metadata": {},
   "outputs": [
    {
     "name": "stdout",
     "output_type": "stream",
     "text": [
      "\u001b[34m╭─\u001b[0m\u001b[34m \u001b[0m\u001b[1;34mNote\u001b[0m\u001b[34m \u001b[0m\u001b[34m──────────────────────────────────────────────────────────────────────\u001b[0m\u001b[34m─╮\u001b[0m\n",
      "\u001b[34m│\u001b[0m \u001b[1mPlease make sure you have the correct notebook name for a successful grading\u001b[0m \u001b[34m│\u001b[0m\n",
      "\u001b[34m╰──────────────────────────────────────────────────────────────────────────────╯\u001b[0m\n",
      "\u001b[34m╭──────────────────────────────────────────────────────────────────────────────╮\u001b[0m\n",
      "\u001b[34m│\u001b[0m Notebook name received: \u001b[1m./Multivariate_Analysis.ipynb\u001b[0m                        \u001b[34m│\u001b[0m\n",
      "\u001b[34m╰──────────────────────────────────────────────────────────────────────────────╯\u001b[0m\n",
      "\n",
      "\u001b[1;34mTesting your solution for Task \u001b[0m\u001b[1;34m1\u001b[0m\u001b[1;34m:\u001b[0m \u001b[1;30mHow many different columns does the \u001b[0m\n",
      "\u001b[1;30mToyotaCorolla set have?\u001b[0m\n",
      "\u001b[32mTask \u001b[0m\u001b[1;32m1\u001b[0m\u001b[32m: passed. ✅\u001b[0m\n",
      "\n",
      "\u001b[1;34mTesting your solution for Task \u001b[0m\u001b[1;34m2\u001b[0m\u001b[1;34m:\u001b[0m \u001b[1;30mHow many individual cars are in the dataset?\u001b[0m\n",
      "\u001b[32mTask \u001b[0m\u001b[1;32m2\u001b[0m\u001b[32m: passed. ✅\u001b[0m\n",
      "\n",
      "\u001b[1;34mTesting your solution for Task \u001b[0m\u001b[1;34m3\u001b[0m\u001b[1;34m:\u001b[0m \u001b[1;30mHow many unique models of cars are present?\u001b[0m\n",
      "\u001b[32mTask \u001b[0m\u001b[1;32m3\u001b[0m\u001b[32m: passed. ✅\u001b[0m\n",
      "\n",
      "\u001b[1;34mTesting your solution for Task \u001b[0m\u001b[1;34m567\u001b[0m\u001b[1;34m:\u001b[0m \u001b[1;30mMVA car price predictions\u001b[0m\n",
      "\u001b[32mTask \u001b[0m\u001b[1;32m5\u001b[0m\u001b[32m, \u001b[0m\u001b[1;32m6\u001b[0m\u001b[32m and \u001b[0m\u001b[1;32m7\u001b[0m\u001b[32m: passed. ✅\u001b[0m\n",
      "\n",
      "╭─────────────────────────────────── \u001b[1mScore\u001b[0m ────────────────────────────────────╮\n",
      "│ Your score is: \u001b[1;32m7.0\u001b[0m / \u001b[1;34m7.0\u001b[0m                                                     │\n",
      "╰──────────────────────────────────────────────────────────────────────────────╯\n"
     ]
    },
    {
     "data": {
      "application/vnd.jupyter.widget-view+json": {
       "model_id": "a0cbbf8215564967b2abfeb55507539c",
       "version_major": 2,
       "version_minor": 0
      },
      "text/plain": [
       "Button(button_style='success', description='Submit Assignment', style=ButtonStyle(), tooltip='https://jupyterh…"
      ]
     },
     "metadata": {},
     "output_type": "display_data"
    },
    {
     "data": {
      "application/vnd.jupyter.widget-view+json": {
       "model_id": "d80f7a0f1300493cac7cea124371ece2",
       "version_major": 2,
       "version_minor": 0
      },
      "text/plain": [
       "Output()"
      ]
     },
     "metadata": {},
     "output_type": "display_data"
    },
    {
     "data": {
      "text/plain": [
       "<Figure size 432x288 with 0 Axes>"
      ]
     },
     "metadata": {},
     "output_type": "display_data"
    }
   ],
   "source": [
    "# Make sure the notebook name is unchanged\n",
    "!python3 Ex5_Grader.pyc\n",
    "%run -i .button.py"
   ]
  },
  {
   "cell_type": "markdown",
   "metadata": {},
   "source": [
    "# Draft Cells\n",
    "\n",
    "Feel free to add as many cells bellow here and try differnt code."
   ]
  },
  {
   "cell_type": "code",
   "execution_count": 47,
   "metadata": {},
   "outputs": [
    {
     "name": "stdout",
     "output_type": "stream",
     "text": [
      "<class 'pandas.core.frame.DataFrame'>\n",
      "RangeIndex: 1427 entries, 0 to 1426\n",
      "Data columns (total 36 columns):\n",
      " #   Column            Non-Null Count  Dtype \n",
      "---  ------            --------------  ----- \n",
      " 0   Id                1427 non-null   int64 \n",
      " 1   Model             1427 non-null   object\n",
      " 2   Price             1427 non-null   int64 \n",
      " 3   Age               1427 non-null   int64 \n",
      " 4   Mfg_Month         1427 non-null   int64 \n",
      " 5   Mfg_Year          1427 non-null   int64 \n",
      " 6   KM                1427 non-null   int64 \n",
      " 7   Fuel_Type         1427 non-null   object\n",
      " 8   HP                1427 non-null   int64 \n",
      " 9   Met_Color         1427 non-null   int64 \n",
      " 10  Automatic         1427 non-null   int64 \n",
      " 11  cc                1427 non-null   int64 \n",
      " 12  Doors             1427 non-null   int64 \n",
      " 13  Cylinders         1427 non-null   int64 \n",
      " 14  Gears             1427 non-null   int64 \n",
      " 15  Quarterly_Tax     1427 non-null   int64 \n",
      " 16  Weight            1427 non-null   int64 \n",
      " 17  Mfr_Guarantee     1427 non-null   int64 \n",
      " 18  BOVAG_Guarantee   1427 non-null   int64 \n",
      " 19  Guarantee_Period  1427 non-null   int64 \n",
      " 20  ABS               1427 non-null   int64 \n",
      " 21  Airbag_1          1427 non-null   int64 \n",
      " 22  Airbag_2          1427 non-null   int64 \n",
      " 23  Airco             1427 non-null   int64 \n",
      " 24  Automatic_airco   1427 non-null   int64 \n",
      " 25  Boardcomputer     1427 non-null   int64 \n",
      " 26  Central_Lock      1427 non-null   int64 \n",
      " 27  Powered_Windows   1427 non-null   int64 \n",
      " 28  Power_Steering    1427 non-null   int64 \n",
      " 29  Radio             1427 non-null   int64 \n",
      " 30  Mistlamps         1427 non-null   int64 \n",
      " 31  Sport_Model       1427 non-null   int64 \n",
      " 32  Backseat_Divider  1427 non-null   int64 \n",
      " 33  Metallic_Rim      1427 non-null   int64 \n",
      " 34  Radio_cassette    1427 non-null   int64 \n",
      " 35  Tow_Bar           1427 non-null   int64 \n",
      "dtypes: int64(34), object(2)\n",
      "memory usage: 401.5+ KB\n"
     ]
    }
   ],
   "source": [
    "df.info()"
   ]
  },
  {
   "cell_type": "code",
   "execution_count": 69,
   "metadata": {},
   "outputs": [
    {
     "data": {
      "text/plain": [
       "<AxesSubplot:xlabel='Age', ylabel='Count'>"
      ]
     },
     "execution_count": 69,
     "metadata": {},
     "output_type": "execute_result"
    },
    {
     "data": {
      "image/png": "[encoded data removed]",
      "text/plain": [
       "<Figure size 432x288 with 1 Axes>"
      ]
     },
     "metadata": {
      "needs_background": "light"
     },
     "output_type": "display_data"
    }
   ],
   "source": [
    "x = df[\"Age\"]\n",
    "sns.histplot(x)"
   ]
  },
  {
   "cell_type": "code",
   "execution_count": 113,
   "metadata": {},
   "outputs": [
    {
     "name": "stdout",
     "output_type": "stream",
     "text": [
      "T5: [10922.138875]\n"
     ]
    }
   ],
   "source": [
    "print(\"T5:\",regr.predict([[64, 108, 0, 3, 1]]))"
   ]
  },
  {
   "cell_type": "code",
   "execution_count": 114,
   "metadata": {},
   "outputs": [
    {
     "name": "stdout",
     "output_type": "stream",
     "text": [
      "T6: [11385.899996]\n"
     ]
    }
   ],
   "source": [
    "print(\"T6:\",regr.predict([[64, 108, 0, 5, 1]]))"
   ]
  },
  {
   "cell_type": "code",
   "execution_count": 115,
   "metadata": {},
   "outputs": [
    {
     "name": "stdout",
     "output_type": "stream",
     "text": [
      "T5: [11063.785657]\n"
     ]
    }
   ],
   "source": [
    "print(\"T5:\",regr.predict([[64, 108, 0, 5, 0]]))"
   ]
  },
  {
   "cell_type": "code",
   "execution_count": 118,
   "metadata": {},
   "outputs": [
    {
     "name": "stdout",
     "output_type": "stream",
     "text": [
      "T5: [18004.769675]\n"
     ]
    }
   ],
   "source": [
    "print(\"T5:\",regr.predict([[0, 0, 0, 0, 0]]))"
   ]
  },
  {
   "cell_type": "markdown",
   "metadata": {},
   "source": [
    "----"
   ]
  },
  {
   "cell_type": "code",
   "execution_count": null,
   "metadata": {},
   "outputs": [],
   "source": []
  },
  {
   "cell_type": "markdown",
   "metadata": {},
   "source": [
    "#### Hint for task 3: \n",
    "\n",
    " - First find out how many total entries there are (see task above).\n",
    "\n",
    " - How many different unique entries are there?\n",
    "\n",
    " - The function you want to search here is `unique`. Its in the name of the function ;)"
   ]
  },
  {
   "cell_type": "code",
   "execution_count": null,
   "metadata": {},
   "outputs": [],
   "source": []
  },
  {
   "cell_type": "code",
   "execution_count": null,
   "metadata": {},
   "outputs": [],
   "source": []
  },
  {
   "cell_type": "markdown",
   "metadata": {},
   "source": [
    "#### Hint: Only zeros input  \n",
    "As a hint, think about it from a reality point of view: How does this car even look like? Then, apply the mathematical knowledge as outlined in the video (last third proportion of the video).  "
   ]
  },
  {
   "cell_type": "code",
   "execution_count": null,
   "metadata": {},
   "outputs": [],
   "source": []
  },
  {
   "cell_type": "code",
   "execution_count": null,
   "metadata": {},
   "outputs": [],
   "source": []
  }
 ],
 "metadata": {
  "kernelspec": {
   "display_name": "Python 3 (ipykernel)",
   "language": "python",
   "name": "python3"
  },
  "language_info": {
   "codemirror_mode": {
    "name": "ipython",
    "version": 3
   },
   "file_extension": ".py",
   "mimetype": "text/x-python",
   "name": "python",
   "nbconvert_exporter": "python",
   "pygments_lexer": "ipython3",
   "version": "3.9.7"
  }
 },
 "nbformat": 4,
 "nbformat_minor": 4
}
